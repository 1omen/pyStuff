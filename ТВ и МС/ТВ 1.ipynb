{
 "cells": [
  {
   "cell_type": "markdown",
   "metadata": {},
   "source": [
    "\n",
    "### Теория вероятностей и математическая статистика\n",
    "## Практикум 1\n",
    "\n",
    "\n",
    "**Правила:**\n",
    "\n",
    "* Дедлайн **23 октября 23:59**. После дедлайна работы не принимаются, кроме случаев наличия уважительной причины.\n",
    "* Выполненную работу нужно отправить на почту markashevava@mgppu.ru, указав тему письма `\"Практикум 1 от [МО21] Фамилия Имя \"`. Квадратные скобки обязательны.\n",
    "* Прислать нужно ноутбук и его pdf-версию (без архивов). Названия файлов должны быть такими: `N.ipynb` и `N.pdf`, где `N` - ваш  номер в журнале группы и ФИО(нумерация начинается с 01,02,03... и т.д.)\n",
    "* Решения, размещенные на каких-либо интернет-ресурсах не принимаются. Кроме того, публикация решения в открытом доступе может быть приравнена к предоставлению возможности списать.\n",
    "* Для выполнения задания используйте этот ноутбук в качествие основы, ничего не удаляя из него.\n",
    "* Никакой код из данного задания при проверке запускаться не будет.\n",
    "\n",
    "**Баллы за задание:**\n",
    "Задача 1 стоит 3 балла, задача 2 стоит 1 балл, задача 3 стоит 1 балл.\n",
    "\n",
    "ИСПОЛЬЗОВАНИЕ ЦИКЛОВ СТРОГО ЗАПРЕЩЕНО везьде, кроме построения графиков. За цикл в коде все баллы за задачу теряются.\n",
    "Если все сдано вовремя, работает, не похоже хотя бы внешне-оценка отлично.\n",
    "Если сдано позже срока-оценка понижается на 1 балл.\n",
    "За каждую часть задачи, которая не работает снижается оценка на 1 балл.\n",
    "\n",
    "\n",
    "Весь код в авторском решении задания выполняется за полминуты."
   ]
  },
  {
   "cell_type": "code",
   "execution_count": 58,
   "metadata": {},
   "outputs": [],
   "source": [
    "import numpy as np\n",
    "import scipy.stats as sps\n",
    "import ipywidgets as widgets\n",
    "import matplotlib.pyplot as plt"
   ]
  },
  {
   "cell_type": "markdown",
   "metadata": {},
   "source": [
    "**Задача 1.** Рассматривается понятие ОТНОСИТЕЛЬНАЯ ЧАСТОТА (см. Гмурман стр. 12-13).\n",
    "\n",
    "Задача- произвести 100 экспериментов с броском монеты (событие А считается наступившим, если выпадает орел, монета считается симметричной и есть всего два элементарных исхода у эксперимента) и проверить, что \n",
    "последовательность относительных частот, сформированная в процессе экспериментирования,\n",
    "сходится при растущем количестве экспериментов к числу 1/2.\n",
    "\n",
    "Использовать определение сходящейся последовательности: \n",
    "\n",
    "$$\\mbox{Пусть}\\ \\{x_n\\}\\ \\mbox{-есть последовательность относительных частот,}\n",
    " \\ \\\\$$\n",
    "$$ n\\ \\mbox{-какой по счету эксперимент.}$$\n"
   ]
  },
  {
   "cell_type": "markdown",
   "metadata": {},
   "source": [
    "# Часть 1.\n",
    "\n",
    "Провести требуемое число экспериментов.\n",
    "Внесите исправления в код, чтобы монета упала 100 раз."
   ]
  },
  {
   "cell_type": "code",
   "execution_count": 59,
   "metadata": {},
   "outputs": [
    {
     "name": "stdout",
     "output_type": "stream",
     "text": [
      "[1 1 1 0 1 0 1 0 1 0 1 0 1 1 1 1 0 0 0 0 1 0 0 1 0 0 0 0 1 0 1 1 1 1 0 0 0\n",
      " 0 1 1 0 1 1 0 0 0 0 1 1 0 0 0 1 1 0 0 0 0 0 0 0 1 1 1 0 1 1 1 0 0 1 1 1 1\n",
      " 0 0 0 0 0 1 0 0 1 1 0 1 1 1 1 1 0 0 1 0 1 0 1 1 1 0]\n"
     ]
    }
   ],
   "source": [
    "coin = sps.bernoulli(0.5).rvs  # симметричная монета\n",
    "experiment__results=coin(size=100)  # --- реализация 100 бросков монеты\n",
    "print(experiment__results)"
   ]
  },
  {
   "cell_type": "markdown",
   "metadata": {},
   "source": [
    "Часть 2. Используя функцию `type` проверить тип $experiment__results$."
   ]
  },
  {
   "cell_type": "code",
   "execution_count": 60,
   "metadata": {},
   "outputs": [
    {
     "data": {
      "text/plain": [
       "method"
      ]
     },
     "execution_count": 60,
     "metadata": {},
     "output_type": "execute_result"
    }
   ],
   "source": [
    "type(coin)"
   ]
  },
  {
   "cell_type": "code",
   "execution_count": 61,
   "metadata": {},
   "outputs": [
    {
     "data": {
      "text/plain": [
       "numpy.ndarray"
      ]
     },
     "execution_count": 61,
     "metadata": {},
     "output_type": "execute_result"
    }
   ],
   "source": [
    "type(experiment__results)"
   ]
  },
  {
   "cell_type": "markdown",
   "metadata": {},
   "source": [
    "Массивы, разумеется, можно использовать в `for` циклах. Но при этом теряется главное преимущество `numpy` - быстродействие. Всегда, когда это возможно, лучше использовать операции над массивами как едиными целыми. Именно на выработку такого стиля программирования в Питоне направлены наши упражнения. Все долгие методы - неправильные!\n",
    "\n",
    "\n",
    "Смотри внимательно раздел \"Операции над одномерными массивами\" файла  numpy+scipy.stats"
   ]
  },
  {
   "cell_type": "markdown",
   "metadata": {},
   "source": [
    "Иногда бывает нужно использовать частичные (кумулятивные) суммы массива. В нашем курсе такое пригодится. Если понятие кумулятивных (накапливающихся) сумм вам незнакомо, поищите пояснений через Google."
   ]
  },
  {
   "cell_type": "code",
   "execution_count": 62,
   "metadata": {},
   "outputs": [
    {
     "name": "stdout",
     "output_type": "stream",
     "text": [
      "[ 1  2  3  3  4  4  5  5  6  6  7  7  8  9 10 11 11 11 11 11 12 12 12 13\n",
      " 13 13 13 13 14 14 15 16 17 18 18 18 18 18 19 20 20 21 22 22 22 22 22 23\n",
      " 24 24 24 24 25 26 26 26 26 26 26 26 26 27 28 29 29 30 31 32 32 32 33 34\n",
      " 35 36 36 36 36 36 36 37 37 37 38 39 39 40 41 42 43 44 44 44 45 45 46 46\n",
      " 47 48 49 49]\n"
     ]
    }
   ],
   "source": [
    "print(experiment__results.cumsum())"
   ]
  },
  {
   "cell_type": "markdown",
   "metadata": {},
   "source": [
    "Функция `arange` подобна `range`. Аргументы могут быть с плавающей точкой. Следует избегать ситуаций, когда *(конец-начало)/шаг* - целое число, потому что в этом случае включение последнего элемента зависит от ошибок округления. Лучше, чтобы конец диапазона был где-то посредине шага."
   ]
  },
  {
   "cell_type": "code",
   "execution_count": 63,
   "metadata": {},
   "outputs": [
    {
     "name": "stdout",
     "output_type": "stream",
     "text": [
      "[  1   2   3   4   5   6   7   8   9  10  11  12  13  14  15  16  17  18\n",
      "  19  20  21  22  23  24  25  26  27  28  29  30  31  32  33  34  35  36\n",
      "  37  38  39  40  41  42  43  44  45  46  47  48  49  50  51  52  53  54\n",
      "  55  56  57  58  59  60  61  62  63  64  65  66  67  68  69  70  71  72\n",
      "  73  74  75  76  77  78  79  80  81  82  83  84  85  86  87  88  89  90\n",
      "  91  92  93  94  95  96  97  98  99 100]\n"
     ]
    }
   ],
   "source": [
    "a = np.arange(1, 101, 1)\n",
    "print(a)"
   ]
  },
  {
   "cell_type": "markdown",
   "metadata": {},
   "source": [
    "Часть 3. Используя массив кумулятивных сумм, функцию `arange` и особенности арифметических операций с массивами, создать массив относительных частот $x$, n-й элемент которого мы обозначали $x_n$.\n",
    "\n",
    "Чтобы не ошибиться, задумайтесь, что такое ОТНОСИТЕЛЬНАЯ ЧАСТОТА."
   ]
  },
  {
   "cell_type": "code",
   "execution_count": 64,
   "metadata": {},
   "outputs": [
    {
     "name": "stdout",
     "output_type": "stream",
     "text": [
      "[1.         1.         1.         0.75       0.8        0.66666667\n",
      " 0.71428571 0.625      0.66666667 0.6        0.63636364 0.58333333\n",
      " 0.61538462 0.64285714 0.66666667 0.6875     0.64705882 0.61111111\n",
      " 0.57894737 0.55       0.57142857 0.54545455 0.52173913 0.54166667\n",
      " 0.52       0.5        0.48148148 0.46428571 0.48275862 0.46666667\n",
      " 0.48387097 0.5        0.51515152 0.52941176 0.51428571 0.5\n",
      " 0.48648649 0.47368421 0.48717949 0.5        0.48780488 0.5\n",
      " 0.51162791 0.5        0.48888889 0.47826087 0.46808511 0.47916667\n",
      " 0.48979592 0.48       0.47058824 0.46153846 0.47169811 0.48148148\n",
      " 0.47272727 0.46428571 0.45614035 0.44827586 0.44067797 0.43333333\n",
      " 0.42622951 0.43548387 0.44444444 0.453125   0.44615385 0.45454545\n",
      " 0.46268657 0.47058824 0.46376812 0.45714286 0.46478873 0.47222222\n",
      " 0.47945205 0.48648649 0.48       0.47368421 0.46753247 0.46153846\n",
      " 0.4556962  0.4625     0.45679012 0.45121951 0.45783133 0.46428571\n",
      " 0.45882353 0.46511628 0.47126437 0.47727273 0.48314607 0.48888889\n",
      " 0.48351648 0.47826087 0.48387097 0.4787234  0.48421053 0.47916667\n",
      " 0.48453608 0.48979592 0.49494949 0.49      ]\n"
     ]
    }
   ],
   "source": [
    "relative__freq = (experiment__results.cumsum())/a\n",
    "print(relative__freq)"
   ]
  },
  {
   "cell_type": "markdown",
   "metadata": {},
   "source": [
    "получили относительную частоту выпадения одной из сторон монеты на каждый бросок "
   ]
  },
  {
   "cell_type": "markdown",
   "metadata": {},
   "source": [
    "Часть 4. Построить и вывести на экран массив разностей с элементами вида $|x_n-A|$, где $A$ - это возможный предел последовательности $x_n$."
   ]
  },
  {
   "cell_type": "markdown",
   "metadata": {},
   "source": [
    "Пусть предел равен 0.5, тогда массив будет выглядеть следующим образом"
   ]
  },
  {
   "cell_type": "code",
   "execution_count": 65,
   "metadata": {},
   "outputs": [
    {
     "name": "stdout",
     "output_type": "stream",
     "text": [
      "[0.5        0.5        0.5        0.25       0.3        0.16666667\n",
      " 0.21428571 0.125      0.16666667 0.1        0.13636364 0.08333333\n",
      " 0.11538462 0.14285714 0.16666667 0.1875     0.14705882 0.11111111\n",
      " 0.07894737 0.05       0.07142857 0.04545455 0.02173913 0.04166667\n",
      " 0.02       0.         0.01851852 0.03571429 0.01724138 0.03333333\n",
      " 0.01612903 0.         0.01515152 0.02941176 0.01428571 0.\n",
      " 0.01351351 0.02631579 0.01282051 0.         0.01219512 0.\n",
      " 0.01162791 0.         0.01111111 0.02173913 0.03191489 0.02083333\n",
      " 0.01020408 0.02       0.02941176 0.03846154 0.02830189 0.01851852\n",
      " 0.02727273 0.03571429 0.04385965 0.05172414 0.05932203 0.06666667\n",
      " 0.07377049 0.06451613 0.05555556 0.046875   0.05384615 0.04545455\n",
      " 0.03731343 0.02941176 0.03623188 0.04285714 0.03521127 0.02777778\n",
      " 0.02054795 0.01351351 0.02       0.02631579 0.03246753 0.03846154\n",
      " 0.0443038  0.0375     0.04320988 0.04878049 0.04216867 0.03571429\n",
      " 0.04117647 0.03488372 0.02873563 0.02272727 0.01685393 0.01111111\n",
      " 0.01648352 0.02173913 0.01612903 0.0212766  0.01578947 0.02083333\n",
      " 0.01546392 0.01020408 0.00505051 0.01      ]\n"
     ]
    }
   ],
   "source": [
    "massiv = abs(relative__freq - 0.5)\n",
    "print(massiv)"
   ]
  },
  {
   "cell_type": "markdown",
   "metadata": {},
   "source": [
    "**Задача 2.** \n",
    "\n",
    "Изобразить графически последовательность относительных частот $x$ \n",
    " и ее (последовательности) предел в системе координат, где горизонтальная ось указывает на количесво \n",
    " экспериментов(оно же есть параметр $n$);вертикальная ось- есть указывает на \n",
    " значение относительной частоты наступления события А в процессе \n",
    " экспериментирования (оно же $x_n$)."
   ]
  },
  {
   "cell_type": "markdown",
   "metadata": {},
   "source": [
    "Воспользуйтесь рекомендациями из файла matplotlib и/или используйте следующий шаблон"
   ]
  },
  {
   "cell_type": "code",
   "execution_count": 66,
   "metadata": {},
   "outputs": [
    {
     "data": {
      "image/png": "[encoded data removed]",
      "text/plain": [
       "<Figure size 720x720 with 1 Axes>"
      ]
     },
     "metadata": {
      "needs_background": "light"
     },
     "output_type": "display_data"
    }
   ],
   "source": [
    "plt.figure(figsize=(10,10))  # создать рисунок-систему координат размером 10х10  \n",
    "plt.hlines(0.5, xmin=0, xmax=100, color='blue', linestyles='dashdot')  # рисует горизонтальную линию предела\n",
    "# на заданном уровне между точками (xmin, уровень) и (xmax, уровень). Здесь задан уровень 0.5.     \n",
    "plt.scatter(a,relative__freq, color='green', s=10)  #рисует точки, не соединяя их линиями\n",
    "plt.title(\"Относительная частота выпадения одной из сторон монеты для 100 экспериментов\")\n",
    "plt.xlabel(\"Количество экспериментов\")\n",
    "plt.show()  # вывести график на экран, показать график"
   ]
  },
  {
   "cell_type": "markdown",
   "metadata": {},
   "source": [
    "Задача 3.\n",
    "\n",
    "В семье 4 ребенка. Вероятность рождения мальчика 0,51. Описать все возможные исходы и найти вероятность каждого исхода."
   ]
  },
  {
   "cell_type": "code",
   "execution_count": 67,
   "metadata": {},
   "outputs": [
    {
     "name": "stdout",
     "output_type": "stream",
     "text": [
      "Мальчик не родится с вероятностью  0.05764800999999999\n",
      "1 мальчик родится с вероятностью  0.06000099\n",
      "2 мальчика родится с вероятностью  0.06245000999999999\n",
      "3 мальчика родится с вероятностью  0.06499899\n",
      "4 мальчика родится с вероятностью  0.06765201\n"
     ]
    }
   ],
   "source": [
    "print(\"Мальчик не родится с вероятностью \", 0.49**4)\n",
    "print(\"1 мальчик родится с вероятностью \", 0.51**1*0.49**3)\n",
    "print(\"2 мальчика родится с вероятностью \", 0.51**2*0.49**2)\n",
    "print(\"3 мальчика родится с вероятностью \", 0.51**3*0.49**1)\n",
    "print(\"4 мальчика родится с вероятностью \", 0.51**4)"
   ]
  },
  {
   "cell_type": "code",
   "execution_count": null,
   "metadata": {},
   "outputs": [],
   "source": []
  }
 ],
 "metadata": {
  "kernelspec": {
   "display_name": "Python 3",
   "language": "python",
   "name": "python3"
  },
  "language_info": {
   "codemirror_mode": {
    "name": "ipython",
    "version": 3
   },
   "file_extension": ".py",
   "mimetype": "text/x-python",
   "name": "python",
   "nbconvert_exporter": "python",
   "pygments_lexer": "ipython3",
   "version": "3.8.8"
  }
 },
 "nbformat": 4,
 "nbformat_minor": 2
}
