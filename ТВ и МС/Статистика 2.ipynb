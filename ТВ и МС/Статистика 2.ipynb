{
 "cells": [
  {
   "cell_type": "markdown",
   "metadata": {},
   "source": [
    "# Математическая статистика\n",
    "## Практикум 2\n",
    "\n",
    "\n",
    "**Правила:**\n",
    "\n",
    "* Дедлайн ** 5 июня 2022 в 24:00**. После дедлайна работы не принимаются, кроме случаев наличия уважительной причины.\n",
    "* Выполненную работу нужно отправить на почту MarkashevaVA@mgppu.ru и также на w9071981@yandex.ru, указав тему письма `\"Практикум 1[номер группы] Фамилия Имя\"`. Квадратные скобки обязательны.\n",
    "* Прислать нужно ноутбук и его pdf-версию (без архивов). Названия файлов должны быть такими: `N.ipynb` и `N.pdf`, где `N` - ваш  номер в журнале группы и ФИО(нумерация начинается с 01,02,03... и т.д.)\n",
    "* Решения, размещенные на каких-либо интернет-ресурсах не принимаются. Кроме того, публикация решения в открытом доступе может быть приравнена к предоставлению возможности списать.\n",
    "* Для выполнения задания используйте этот ноутбук в качествие основы, ничего не удаляя из него.\n",
    "* Никакой код из данного задания при проверке запускаться не будет.\n",
    "\n",
    "*НЕЛЬЗЯ ИСПОЛЬЗОВАТЬ ЦИКЛЫ, кроме самых отчаянных ситуаций.\n",
    "\n",
    "### Номер ВАШЕГО ВАРИАНТА есть номер вашей фамилии в списке группы. В дальнейшем будем обозначать его $N$\n",
    "\n"
   ]
  },
  {
   "cell_type": "code",
   "execution_count": 1022,
   "metadata": {},
   "outputs": [],
   "source": [
    "import numpy as np\n",
    "import scipy.stats as sps\n",
    "import ipywidgets as widgets\n",
    "import matplotlib.pyplot as plt\n",
    "\n",
    "%matplotlib inline\n",
    "import pandas as pd\n"
   ]
  },
  {
   "cell_type": "markdown",
   "metadata": {},
   "source": [
    "**Задача.1**  Пусть $x_1,\\ldots,x_n$ — реализация из модели сдвига показательного закона\n",
    "\tс плотностью распределения \n",
    "\t$$\n",
    "\t\tf_\\theta(u) = e^{-\\lambda(u-\\theta)}\\cdot I_{\\{u\\geq\\theta\\}} \n",
    "\t\t= \n",
    "\t\t\\begin{cases}\n",
    "\t\t \te^{-\\lambda(u-\\theta)}, & u\\geq\\theta,\\\\\n",
    "\t\t\t0, & u<\\theta.\n",
    "\t\t\\end{cases}\n",
    "\t$$\t\n",
    "Оценить $\\theta$ с помощью метода моментов и метода максимального правдоподобия. Реализуйте эту задачу в Python:\n",
    "\n",
    "* сгенерируйте $\\theta$ из равномерного распределения на  $[1,N]$ и возьмите $\\lambda=|N-10|/N$, где `N` - ваш  номер в журнале группы и ФИО(нумерация начинается с 01,02,03... и т.д.)\n",
    "* сгенерируйте выборку из распределения с плотностью $f_\\theta(u)$ размера  $n=1\\,0000$; \n",
    "* постройте алгоритм нахождения оценки методом моментов и методом правдоподобия (мы такой пример решали на занятии), а потом найдите значения оценок метода моментов и метода максимального правдоподобия, которые генерируются автоматически Питоном."
   ]
  },
  {
   "cell_type": "markdown",
   "metadata": {},
   "source": [
    "### Задача 1."
   ]
  },
  {
   "cell_type": "markdown",
   "metadata": {},
   "source": [
    "**Я имею 5 номер в списке учащихся**"
   ]
  },
  {
   "cell_type": "code",
   "execution_count": 1023,
   "metadata": {},
   "outputs": [
    {
     "name": "stdout",
     "output_type": "stream",
     "text": [
      "Оценка метода моментов:  -3.4839356715246126\n",
      "Оценка метода максимального правдоподобия:  -3.505551096169506\n"
     ]
    }
   ],
   "source": [
    "theta = np.random.uniform(1, 5) # генерирую Тета из равномерного распределения\n",
    "lambd = abs(5-10)/5 # параметр лямбда\n",
    "\n",
    "# в плотности распределения видно, что Тета отвечает за отрицательное смещение функции на графике\n",
    "# исходя из этого, генерирую выборку\n",
    "sample = np.random.exponential(lambd, size = 10000) - theta # размер выборки 10000\n",
    "\n",
    "# оценки методов\n",
    "esimate_mme = np.mean(sample) - lambd  # метод моментов\n",
    "esimate_mle = np.min(sample) # метод максимального правдоподобия\n",
    "\n",
    "print(\"Оценка метода моментов: \", esimate_mme)\n",
    "print(\"Оценка метода максимального правдоподобия: \", esimate_mle)"
   ]
  },
  {
   "cell_type": "markdown",
   "metadata": {},
   "source": [
    "Значения при применении разных методов расходятся лишь в тысячных, что говорит о том, что они работают.\n",
    "Что касается поисков оценок методов \"вручную\" - с этим у меня возникли некоторые сложности, а именно с нахождением интеграла \n",
    "для получения матожидания заданной плотности распределения.\n",
    "\n",
    "(я также пробовал создать пользовательское распределение с помощью библиотеки scipy, но попытка не обвенчалась успехом)"
   ]
  },
  {
   "cell_type": "markdown",
   "metadata": {},
   "source": [
    "### Задача 2. Критерий согласия "
   ]
  },
  {
   "cell_type": "code",
   "execution_count": 1024,
   "metadata": {},
   "outputs": [
    {
     "data": {
      "text/plain": [
       "KstestResult(statistic=0.9667, pvalue=0.0)"
      ]
     },
     "execution_count": 1024,
     "metadata": {},
     "output_type": "execute_result"
    }
   ],
   "source": [
    "sps.kstest(sample, 'expon') "
   ]
  },
  {
   "cell_type": "markdown",
   "metadata": {},
   "source": [
    "Оценив параметр **statistic** можно отвергать гипотезу о том, что представленная выборка, осложненная параметром Тета,\n",
    "соответствует экспоненциальному распределнию. Уровень значимости (pvalue) равен нулю. \n",
    "Ниже приведу пример того, как ведет себя функция kstest, если убрать Тету."
   ]
  },
  {
   "cell_type": "code",
   "execution_count": 1032,
   "metadata": {},
   "outputs": [
    {
     "data": {
      "text/plain": [
       "KstestResult(statistic=0.005417273830428115, pvalue=0.929307389731466)"
      ]
     },
     "execution_count": 1032,
     "metadata": {},
     "output_type": "execute_result"
    }
   ],
   "source": [
    "sample = np.random.exponential(lambd, size = 10000)\n",
    "sps.kstest(sample, 'expon') "
   ]
  },
  {
   "cell_type": "markdown",
   "metadata": {},
   "source": [
    "Здесь же видно близкий к нулю **statistic** и почти равный единице **pvalue**, что позволяет нам принять гипотезу."
   ]
  },
  {
   "cell_type": "markdown",
   "metadata": {},
   "source": [
    "### Задача 3. Доверительные интервалы"
   ]
  },
  {
   "cell_type": "code",
   "execution_count": 1041,
   "metadata": {},
   "outputs": [],
   "source": [
    "theta = np.random.uniform(-5,5) # Тета из равномерного распределения\n",
    "sample = np.random.normal(theta, 4, size = 100) # выборка, размер 100\n",
    "alpha = sps.kstest(sample, 'norm').pvalue # берем уровень значимостти из критерия Колмогорова\n",
    "sigma = np.std(sample) # среднеквадратическое отклонение для выборки"
   ]
  },
  {
   "cell_type": "markdown",
   "metadata": {},
   "source": [
    "**Доверительный интервал: теоретический**"
   ]
  },
  {
   "cell_type": "code",
   "execution_count": 1043,
   "metadata": {},
   "outputs": [
    {
     "name": "stdout",
     "output_type": "stream",
     "text": [
      "Доверительный интервал:  0.9999999999996069\n"
     ]
    }
   ],
   "source": [
    "print(\"Доверительный интервал: \", 1 - alpha)"
   ]
  },
  {
   "cell_type": "markdown",
   "metadata": {},
   "source": [
    "**Доверительный интервал: параметрический бутстрэп**"
   ]
  },
  {
   "cell_type": "code",
   "execution_count": 1019,
   "metadata": {},
   "outputs": [
    {
     "name": "stdout",
     "output_type": "stream",
     "text": [
      "Интервал параметрического бутстрэпа:  [2.7153216877954924, 3.1008150001793044]\n"
     ]
    }
   ],
   "source": [
    "number_of_bootstrap_samples = 5 # количество выборок\n",
    "size_of_bootstrap_samples = 100 # размер выборок\n",
    "\n",
    "mean = np.mean(sample) # оценка параметра theta \n",
    "bootstrap_samples = np.random.normal(mean,sigma,size=[number_of_bootstrap_samples,size_of_bootstrap_samples]) # выборка\n",
    "bootstrap_estimates = np.apply_along_axis(np.mean, 1, bootstrap_samples) # среднее для каждой выборки \n",
    "\n",
    "# Вычисляем параметрический бутстрэп доверительный интервал\n",
    "CI_Bootstrap_Parametric = [np.quantile(bootstrap_estimates,alpha/2), np.quantile(bootstrap_estimates,1-alpha/2)]\n",
    "\n",
    "print(\"Интервал параметрического бутстрэпа: \",CI_Bootstrap_Parametric)"
   ]
  },
  {
   "cell_type": "markdown",
   "metadata": {},
   "source": [
    "**Доверительный интервал: непараметрический бутстрэп**"
   ]
  },
  {
   "cell_type": "code",
   "execution_count": 1018,
   "metadata": {},
   "outputs": [
    {
     "name": "stdout",
     "output_type": "stream",
     "text": [
      "Интервал непараметрического бутстрэпа:  [2.9711623639799596, 3.4992121138782837]\n"
     ]
    }
   ],
   "source": [
    "bootstrap_samples = np.random.choice(sample,size=[number_of_bootstrap_samples,size_of_bootstrap_samples]) # выборка\n",
    "bootstrap_estimates = np.apply_along_axis(np.mean, 1, bootstrap_samples) # среднее для каждой выборки \n",
    "\n",
    "# Вычисляем непараметрический бутстрэп доверительный интервал\n",
    "CI_Bootstrap_Nonparametric = [np.quantile(bootstrap_estimates,alpha/2), np.quantile(bootstrap_estimates,1-alpha/2)] \n",
    "\n",
    "print(\"Интервал непараметрического бутстрэпа: \",CI_Bootstrap_Nonparametric)"
   ]
  },
  {
   "cell_type": "markdown",
   "metadata": {},
   "source": [
    "# Вывод"
   ]
  },
  {
   "cell_type": "markdown",
   "metadata": {},
   "source": [
    "Опыт показал, что проще (и точнее) использовать предлагаемые Питоном фукнции для построения выборок и анализа параметров различными методами. \n",
    "Говоря о доверительных интервалах бутстрэпа:\n",
    "в моем случае интервалы накладываются друг на друга и, кажется, можно сказать, что отсутствуют значимые отличия и мы не можем отвергнуть нулевую гипотезу.\n",
    "\n",
    "Ниже представлю отрывок неудавшейся программы по реализации методов вручную, значения там слишком расходились."
   ]
  },
  {
   "cell_type": "code",
   "execution_count": 1074,
   "metadata": {},
   "outputs": [
    {
     "name": "stdout",
     "output_type": "stream",
     "text": [
      "Оценка метода моментов: -1.4343152537908652\n",
      "Оценка метода максимального праводоподобия: -1.0\n"
     ]
    }
   ],
   "source": [
    "import numpy as np\n",
    "import math\n",
    "\n",
    "lambd = 1\n",
    "theta = np.random.uniform(1, 5)\n",
    "u = np.linspace(theta,sps.expon.ppf(0.99), 100)\n",
    "sample = -np.exp(-lambd*(u-theta)) # здесь я пытался получить первообразную из функции плотности - функцию распределения.\n",
    "esimate_mme = np.mean(sample) - lambd \n",
    "esimate_mle = np.min(sample)\n",
    "print(f'Оценка метода моментов: {esimate_mme}\\nОценка метода максимального праводоподобия: {esimate_mle}')"
   ]
  },
  {
   "cell_type": "markdown",
   "metadata": {},
   "source": []
  },
  {
   "cell_type": "markdown",
   "metadata": {},
   "source": []
  },
  {
   "cell_type": "markdown",
   "metadata": {},
   "source": []
  },
  {
   "cell_type": "code",
   "execution_count": 2,
   "metadata": {},
   "outputs": [],
   "source": [
    "np.random.seed(100) # зафиксируем seed"
   ]
  },
  {
   "cell_type": "markdown",
   "metadata": {},
   "source": [
    "### Seed"
   ]
  },
  {
   "cell_type": "markdown",
   "metadata": {},
   "source": [
    "Для того, чтобы каждый раз при использовании генератора псевдослучайных чисел получать идентичные последовательности, используется функция set.seed (от set - задать, установить, и seed - начальное число). Как следует из названия, эта функция фиксирует число, служащее начальной точкой для запуска алгоритма генерации псевдослучайных чисел. В качестве аргумента функции указывают любое целое число (не важно, какое именно). \n"
   ]
  },
  {
   "cell_type": "markdown",
   "metadata": {},
   "source": [
    "* **np.random.seed(<число>)** —\n",
    "настраивает генератор случайных чисел на новую последовательность. Если данная функция в программе не вызывается, по умолчанию используется системное время. "
   ]
  },
  {
   "cell_type": "markdown",
   "metadata": {},
   "source": [
    "В качестве примера приведем еще фукции для распределений, которые мы упоминали в курсе по теории вероятностей:\n",
    "* **np.random.binomial(n, p[, size])** — биномиальное распределение  \n",
    "* **np.random.exponential([scale, size])** — экспоненциальное распределение  \n",
    "* **np.random.poisson([lam, size])** — распределение Пуассона  \n",
    "* **np.random.standard_cauchy([size])** — распределение Коши  "
   ]
  },
  {
   "cell_type": "markdown",
   "metadata": {},
   "source": [
    "Обратите внимание на то, что в np.random.exponential параметр scale = 1/$\\lambda$."
   ]
  },
  {
   "cell_type": "code",
   "execution_count": null,
   "metadata": {},
   "outputs": [],
   "source": [
    "Пример."
   ]
  },
  {
   "cell_type": "code",
   "execution_count": 378,
   "metadata": {},
   "outputs": [],
   "source": [
    "n = 1000 # размер выборки\n",
    "\n",
    "scale = 5 # параметр показательного распределения (scale)\n",
    "drift = np.random.uniform(1,10) # а это сдвиг, который нам неизвестен и который мы будем оценивать"
   ]
  },
  {
   "cell_type": "code",
   "execution_count": 452,
   "metadata": {},
   "outputs": [],
   "source": [
    "sample = drift+np.random.exponential(scale, size = n) # генерируем выборку размера n"
   ]
  },
  {
   "cell_type": "code",
   "execution_count": 380,
   "metadata": {},
   "outputs": [],
   "source": [
    "esimate_mme = np.mean(sample) - scale  # оценка метода моментов\n",
    "esimate_mle = np.min(sample) # оценка метода максимального правдоподобия"
   ]
  },
  {
   "cell_type": "code",
   "execution_count": 383,
   "metadata": {},
   "outputs": [
    {
     "name": "stdout",
     "output_type": "stream",
     "text": [
      "Истинное значение параметра:  1.2107897360187567\n",
      "Оценка метода моментов:  1.201419863609456\n",
      "Оценка метода максимального правдоподобия:  1.2109236264358023\n"
     ]
    }
   ],
   "source": [
    "print(\"Истинное значение параметра: \", drift)\n",
    "print(\"Оценка метода моментов: \", esimate_mme)\n",
    "print(\"Оценка метода максимального правдоподобия: \", esimate_mle)"
   ]
  },
  {
   "cell_type": "markdown",
   "metadata": {},
   "source": [
    "**Задача.2**  Мы нашли точечные оценки методом моментов и методом правдоподобия, теперь надо оценить используя соответствующий параметрическому случаю критерий согласия, согласуется ли полученные распределения с данной выборкой."
   ]
  },
  {
   "cell_type": "code",
   "execution_count": null,
   "metadata": {},
   "outputs": [],
   "source": []
  },
  {
   "cell_type": "markdown",
   "metadata": {},
   "source": [
    "**Задача 3.** Сравнить на выборках размера 100 для $\\mathcal{N}(\\theta,4)$ доверительные интервалы:\n",
    "(1) теоретический, (2) на основе параметрического бутстрэпа, (3) на основе непараметрического бутстрэпа. Сам параметр $\\theta$ сгенерировать из равномерного распределения на $[-5,5]$. "
   ]
  },
  {
   "cell_type": "code",
   "execution_count": null,
   "metadata": {},
   "outputs": [],
   "source": [
    "# Фиксируем параметры задачи\n",
    "\n",
    "n = ?? # размер выборки \n",
    "alpha = ?? #уровень значимости\n",
    "\n",
    "theta = np.random.uniform(-5,5) # неизвестное среднее нормального распределения\n",
    "sigma = ?? # известная sigma нормального распределения"
   ]
  },
  {
   "cell_type": "code",
   "execution_count": null,
   "metadata": {},
   "outputs": [],
   "source": [
    "# Сгенерируем выборку из нужного распределения\n",
    "sample = ??"
   ]
  },
  {
   "cell_type": "code",
   "execution_count": 35,
   "metadata": {},
   "outputs": [
    {
     "name": "stdout",
     "output_type": "stream",
     "text": [
      "Значение theta равно 4.1006187540576775\n"
     ]
    }
   ],
   "source": [
    "theta = np.random.uniform(-5,5)\n",
    "print(\"Значение theta равно\",theta)"
   ]
  },
  {
   "cell_type": "markdown",
   "metadata": {},
   "source": [
    "### Теоретический доверительный интервал"
   ]
  },
  {
   "cell_type": "markdown",
   "metadata": {},
   "source": [
    "Напомним, что теоретический доверительный интервал вычисляется следующим образом: \n",
    "\n",
    "$$\n",
    "\\mathbb{P}\\left( \\bar{X} - \\frac{c_{1-\\alpha/2}\\sigma}{\\sqrt{n}} < \\mu < \\bar{X} + \\frac{c_{1-\\alpha/2}\\sigma}{\\sqrt{n}} \\right) = 1-\\alpha,\n",
    "$$\n",
    "где $c_{\\alpha}$ — квантиль распределения $\\mathcal{N}(0,1)$ уровня $\\alpha$."
   ]
  },
  {
   "cell_type": "markdown",
   "metadata": {},
   "source": [
    " Вычисляем теоретический доверительный интервал используя функции $stats.norm.ppf(1-alpha/2)$ для вычисления кваниля $c_{\\alpha}$.\n",
    "\n"
   ]
  },
  {
   "cell_type": "markdown",
   "metadata": {},
   "source": [
    "### Доверительный интервал на основе параметрического бутстрэпа"
   ]
  },
  {
   "cell_type": "code",
   "execution_count": 5,
   "metadata": {},
   "outputs": [],
   "source": [
    "# Параметры для бутстрэпа\n",
    "number_of_bootstrap_samples = 10 # количество бутстрэп-выборок\n",
    "size_of_bootstrap_samples = 20 # размер бутстрэп-выборок"
   ]
  },
  {
   "cell_type": "code",
   "execution_count": null,
   "metadata": {},
   "outputs": [],
   "source": [
    "# Оцениваем неизвестный параметр theta \n",
    "mean = np.mean(sample) "
   ]
  },
  {
   "cell_type": "code",
   "execution_count": null,
   "metadata": {},
   "outputs": [],
   "source": [
    "# Генерируем выборку из распределения N(sample_mean, sigma)\n",
    "bootstrap_samples = np.random.normal(mean,sigma,size=[number_of_bootstrap_samples,size_of_bootstrap_samples]) "
   ]
  },
  {
   "cell_type": "code",
   "execution_count": null,
   "metadata": {},
   "outputs": [],
   "source": [
    "# Считаем среднее для каждой выборки \n",
    "bootstrap_estimates = np.apply_along_axis(np.mean, 1, bootstrap_samples)"
   ]
  },
  {
   "cell_type": "code",
   "execution_count": null,
   "metadata": {},
   "outputs": [],
   "source": [
    "# Вычисляем параметрический бутстрэп доверительный интервал\n",
    "CI_Bootstrap_Parametric = [np.quantile(bootstrap_estimates,alpha/2), np.quantile(bootstrap_estimates,1-alpha/2)]"
   ]
  },
  {
   "cell_type": "markdown",
   "metadata": {},
   "source": [
    "### Доверительный интервал на основе непараметрического бутстрэпа"
   ]
  },
  {
   "cell_type": "code",
   "execution_count": null,
   "metadata": {},
   "outputs": [],
   "source": [
    "# Будем использовать те же параметры\n",
    "number_of_bootstrap_samples = 10 # количество бутстрэп-выборок\n",
    "size_of_bootstrap_samples = 20 # размер бутстрэп-выборок"
   ]
  },
  {
   "cell_type": "code",
   "execution_count": null,
   "metadata": {},
   "outputs": [],
   "source": [
    "# Генерируем выборку из распределения N(bootstrap_mean, sigma)\n",
    "bootstrap_samples = np.random.choice(sample,size=[number_of_bootstrap_samples,size_of_bootstrap_samples]) "
   ]
  },
  {
   "cell_type": "code",
   "execution_count": null,
   "metadata": {},
   "outputs": [],
   "source": [
    "# Считаем среднее для каждой выборки \n",
    "bootstrap_estimates = np.apply_along_axis(np.mean, 1, bootstrap_samples)"
   ]
  },
  {
   "cell_type": "code",
   "execution_count": null,
   "metadata": {},
   "outputs": [],
   "source": [
    "# Вычисляем непараметрический бутстрэп доверительный интервал\n",
    "CI_Bootstrap_Nonparametric = [np.quantile(bootstrap_estimates,alpha/2), np.quantile(bootstrap_estimates,1-alpha/2)]"
   ]
  },
  {
   "cell_type": "code",
   "execution_count": 6,
   "metadata": {},
   "outputs": [],
   "source": [
    "### Сделайте выводы: как сравнить полученные доверительные интервалы? как сравнить методы? какие лучше и почему?"
   ]
  },
  {
   "cell_type": "code",
   "execution_count": null,
   "metadata": {},
   "outputs": [],
   "source": []
  },
  {
   "cell_type": "code",
   "execution_count": null,
   "metadata": {},
   "outputs": [],
   "source": []
  }
 ],
 "metadata": {
  "kernelspec": {
   "display_name": "Python 3",
   "language": "python",
   "name": "python3"
  },
  "language_info": {
   "codemirror_mode": {
    "name": "ipython",
    "version": 3
   },
   "file_extension": ".py",
   "mimetype": "text/x-python",
   "name": "python",
   "nbconvert_exporter": "python",
   "pygments_lexer": "ipython3",
   "version": "3.8.8"
  }
 },
 "nbformat": 4,
 "nbformat_minor": 2
}
